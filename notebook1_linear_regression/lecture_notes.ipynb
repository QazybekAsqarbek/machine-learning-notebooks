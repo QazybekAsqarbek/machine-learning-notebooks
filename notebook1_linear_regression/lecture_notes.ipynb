{
 "cells": [
  {
   "cell_type": "markdown",
   "metadata": {},
   "source": [
    "## Week1 Machine Learning: Model and Cost function"
   ]
  },
  {
   "cell_type": "code",
   "execution_count": 1,
   "metadata": {},
   "outputs": [],
   "source": [
    "import random"
   ]
  },
  {
   "cell_type": "code",
   "execution_count": 19,
   "metadata": {},
   "outputs": [],
   "source": [
    "random.seed(42)"
   ]
  },
  {
   "cell_type": "code",
   "execution_count": 20,
   "metadata": {},
   "outputs": [
    {
     "name": "stdout",
     "output_type": "stream",
     "text": [
      "values of theta0:0.6394267984578837\n",
      "\t  theta1:0.025010755222666936\n"
     ]
    }
   ],
   "source": [
    "theta0 = random.random()\n",
    "theta1 = random.random()\n",
    "\n",
    "print(f\"values of theta0:{theta0}\\n\\t  theta1:{theta1}\")"
   ]
  },
  {
   "cell_type": "code",
   "execution_count": 12,
   "metadata": {},
   "outputs": [],
   "source": [
    "# hypothesis function to get output value for a given x\n",
    "def h(x):\n",
    "    return theta0 + theta1 * x"
   ]
  },
  {
   "cell_type": "code",
   "execution_count": 14,
   "metadata": {},
   "outputs": [],
   "source": [
    "# mean squared error cost function\n",
    "# works pretty good for majority of machine learning algorithms\n",
    "def cost(X, Y):\n",
    "    \"\"\"\n",
    "        X:       training set predictors\n",
    "        Y:       training set target feature\n",
    "\n",
    "        Returns: cost of our hypothesis function\n",
    "    \"\"\"\n",
    "    \n",
    "    # length of the set\n",
    "    m = len(X)\n",
    "    error_sum = 0\n",
    "    for x, y in zip(X, Y):\n",
    "        predicted_value = h(x)\n",
    "        error = h(x) - y\n",
    "        error_sum += error ** 2\n",
    "    return error_sum / (2 * m)"
   ]
  },
  {
   "cell_type": "code",
   "execution_count": null,
   "metadata": {},
   "outputs": [],
   "source": []
  }
 ],
 "metadata": {
  "kernelspec": {
   "display_name": "Python 3",
   "language": "python",
   "name": "python3"
  },
  "language_info": {
   "codemirror_mode": {
    "name": "ipython",
    "version": 3
   },
   "file_extension": ".py",
   "mimetype": "text/x-python",
   "name": "python",
   "nbconvert_exporter": "python",
   "pygments_lexer": "ipython3",
   "version": "3.8.6"
  }
 },
 "nbformat": 4,
 "nbformat_minor": 4
}
